{
 "cells": [
  {
   "cell_type": "code",
   "execution_count": 7,
   "metadata": {},
   "outputs": [],
   "source": [
    "from __future__ import print_function\n",
    "import pandas as pd\n",
    "import datetime\n",
    "import time\n",
    "import re\n",
    "import gspread\n",
    "from google.oauth2.service_account import Credentials\n",
    "from oauth2client.client import SignedJwtAssertionCredentials\n",
    "import json"
   ]
  },
  {
   "cell_type": "code",
   "execution_count": 8,
   "metadata": {},
   "outputs": [],
   "source": [
    "SCOPE = [\"https://spreadsheets.google.com/feeds\"]\n",
    "SECRETS_FILE = \"covidtrackerkey.json\"\n",
    "SPREADSHEET = \"Health Screen - Microspec (Responses)\"\n",
    "json_key = json.load(open(SECRETS_FILE))\n",
    "# Authenticate using the signed key\n",
    "scopes = [\n",
    "    'https://www.googleapis.com/auth/spreadsheets',\n",
    "    'https://www.googleapis.com/auth/drive'\n",
    "]\n",
    "\n",
    "credentials = Credentials.from_service_account_file(\n",
    "    'covidtrackerkey.json',\n",
    "    scopes=scopes\n",
    ")\n",
    "\n",
    "gc = gspread.authorize(credentials)\n",
    "workbook = gc.open(SPREADSHEET)\n",
    "# Get the first sheet\n",
    "sheet = workbook.sheet1\n",
    "data = pd.DataFrame(sheet.get_all_records())\n",
    "data = data.set_index(\"Timestamp\")\n",
    "data.index = pd.to_datetime(data.index)\n",
    "MasterList=pd.read_csv('MasterList.csv')\n",
    "record=pd.read_csv('record.csv',index_col=0)\n"
   ]
  },
  {
   "cell_type": "code",
   "execution_count": null,
   "metadata": {},
   "outputs": [],
   "source": []
  },
  {
   "cell_type": "code",
   "execution_count": 16,
   "metadata": {},
   "outputs": [
    {
     "name": "stdout",
     "output_type": "stream",
     "text": [
      "At 2021-05-13 05:47:04\n",
      "Timestamp\n",
      "2021-05-13 05:47:04    Nick Jacobetz  has somehow filledout the form ...\n",
      "2021-05-13 05:47:04    Nick Jacobetz  has somehow filledout the form ...\n",
      "dtype: object\n",
      "At 2021-05-13 05:47:04\n",
      "Timestamp\n",
      "2021-05-13 05:47:04    Nick Jacobetz  has somehow filledout the form ...\n",
      "2021-05-13 05:47:04    Nick Jacobetz  has somehow filledout the form ...\n",
      "dtype: object\n"
     ]
    }
   ],
   "source": [
    "compareday= datetime.datetime(2021, 5, 13)\n",
    "yesframe=pd.DataFrame(columns=['First Name','Last Name'])\n",
    "noframe=pd.DataFrame(columns=['First Name','Last Name'])\n",
    "attendanceframe=pd.DataFrame(columns=['First Name','Last Name'])\n",
    "for x in data.index:\n",
    "    day = datetime.datetime(x.year,x.month,x.day)\n",
    "    if (day== compareday):\n",
    "        try:   \n",
    "            temp = {'First Name': data['First Name'][x], \"Last Name\":data['Last Name'][x]}\n",
    "            #print(x)\n",
    "            #print((data[\"First Name\"][x])+\" \"+str(data[\"Last Name\"][x]))\n",
    "            attendanceframe= attendanceframe.append(temp,ignore_index=True)\n",
    "            #print(data['I am participating in Microspec’s required COVID-19 Daily Safety Screening program. If any, or all, of my symptoms are consistent with cold, flu, respiratory or gastrointestinal illness (the markers of COVID-19), I agree to contact my physician for follow up and report the results to Human Resource. The responsibility for follow up is mine alone and not those associated with this screening. I hereby release Microspec Corporation (\"Microspec\" or the “Company\") and each of its employees and agents from any liability arising from, or in any way connected with, this screening and disclosure form to the fullest extent permitted by applicable law.'][x])\n",
    "            if(data['I am participating in Microspec’s required COVID-19 Daily Safety Screening program. If any, or all, of my symptoms are consistent with cold, flu, respiratory or gastrointestinal illness (the markers of COVID-19), I agree to contact my physician for follow up and report the results to Human Resource. The responsibility for follow up is mine alone and not those associated with this screening. I hereby release Microspec Corporation (\"Microspec\" or the “Company\") and each of its employees and agents from any liability arising from, or in any way connected with, this screening and disclosure form to the fullest extent permitted by applicable law.'][x]!=\"I Accept\" or\n",
    "            data['Answer this question only on the first day of your work week. If this is a Monday, was your temperature taken over the weekend on Saturday and Sunday 100° or higher?'][x]=='Yes' or\n",
    "            data['Do you have a persistent cough?'][x]=='Yes'or\n",
    "            data['Do you have shortness of breath?'][x]=='Yes'or\n",
    "            data['In the last 24 hours, have you experienced any of the following symptoms: • Chills/shaking with chills • Loss of taste or smell • Muscle pain • Headache • Sore throat • Intestinal distress with vomiting or diarrhea • Nausea • Fever • Cough • Difficulty breathing • Stuffy nose • Congestion?'][x]=='Yes'or\n",
    "            data['In the last 24 hours: • Have you taken a fever reducer (such as Tylenol or Advil) to relieve a fever of 100° or higher? • Have you taken a cough suppressant to relieve a dry cough?'][x]=='Yes'or\n",
    "            data[\"In the last 7 days, have you, or someone in your household: • Visited inside your home or someone else's home with anyone outside of your household? • Attended an inside or outside public gathering?\"][x]=='Yes'or\n",
    "            data[\"In the last 7 days, have you, or someone in your household traveled outside of New England or traveled anywhere by air?\"][x]=='Yes'or\n",
    "            data[\"In the last 14 days, have you had contact with someone who has tested positive for COVID-19?\"][x]=='Yes'):\n",
    "                yesframe= yesframe.append(temp, ignore_index=True)\n",
    "            else:\n",
    "                noframe= noframe.append(temp, ignore_index=True)\n",
    "        except ValueError:\n",
    "            temp = {'First Name': data['First Name'][x], \"Last Name\":data['Last Name'][x]}\n",
    "            print(\"At \"+str(x))\n",
    "            print(temp['First Name']+\" \"+temp['Last Name']+\" has somehow filledout the form incorrectly\")\n",
    "            \n",
    "            yesframe= yesframe.append(temp, ignore_index=True)\n"
   ]
  },
  {
   "cell_type": "code",
   "execution_count": null,
   "metadata": {},
   "outputs": [],
   "source": [
    "for x in attendanceframe.index:\n",
    "    name=str(attendanceframe[\"First Name\"][x])+\" \"+str(attendanceframe[\"Last Name\"][x])\n",
    "    name= re.sub(r\"\\s+\", \"\", name)\n",
    "    name= name.upper()\n",
    "    for y in MasterList.index:\n",
    "        mname=str(MasterList[\"First Name\"][y])+\" \"+str(MasterList[\"Last Name\"][y])\n",
    "        mname= re.sub(r\"\\s+\", \"\", mname)\n",
    "        mname= mname.upper()\n",
    "        if(mname==\"BRUCECRAIG\"):\n",
    "            MasterList=MasterList.drop(y)\n",
    "        if(mname==name):            \n",
    "            MasterList=MasterList.drop(y)\n",
    "            break"
   ]
  },
  {
   "cell_type": "code",
   "execution_count": null,
   "metadata": {},
   "outputs": [],
   "source": [
    "colname=str(compareday.month)+\"/\"+str(compareday.day)+\"/\"+str(compareday.year)\n",
    "nonearr=[]\n",
    "for x in record.index:\n",
    "    nonearr.append(None)\n",
    "record[colname]=nonearr\n",
    "for x in yesframe.index:\n",
    "    i=re.sub(r\"\\s+\", \"\", yesframe[\"First Name\"][x])+\" \"+re.sub(r\"\\s+\", \"\", yesframe[\"Last Name\"][x])\n",
    "    i=i.lower()\n",
    "    i=i.title()\n",
    "    record[colname][i]=\"FOLLOW UP\"\n",
    "for x in noframe.index:\n",
    "    i=re.sub(r\"\\s+\", \"\", noframe[\"First Name\"][x])+\" \"+re.sub(r\"\\s+\", \"\", noframe[\"Last Name\"][x])\n",
    "    i=i.lower()\n",
    "    i=i.title()\n",
    "    record[colname][i]=\"all set\"\n",
    "for x in MasterList.index:\n",
    "    i=re.sub(r\"\\s+\", \"\", MasterList[\"First Name\"][x])+\" \"+re.sub(r\"\\s+\", \"\", MasterList[\"Last Name\"][x])\n",
    "    i=i.lower()\n",
    "    i=i.title()\n",
    "    record[colname][i]=\"DID NOT COMPLETE\"\n",
    "arrr=[]\n",
    "for x in record.index:\n",
    "    arrr.append(record[colname][x])\n",
    "record[colname]=arrr\n"
   ]
  },
  {
   "cell_type": "code",
   "execution_count": null,
   "metadata": {},
   "outputs": [],
   "source": [
    "record.to_csv(r'record.csv', index = True, header=True)"
   ]
  },
  {
   "cell_type": "code",
   "execution_count": null,
   "metadata": {},
   "outputs": [],
   "source": []
  },
  {
   "cell_type": "code",
   "execution_count": null,
   "metadata": {},
   "outputs": [],
   "source": []
  },
  {
   "cell_type": "code",
   "execution_count": null,
   "metadata": {},
   "outputs": [],
   "source": []
  }
 ],
 "metadata": {
  "kernelspec": {
   "display_name": "Python 3",
   "language": "python",
   "name": "python3"
  },
  "language_info": {
   "codemirror_mode": {
    "name": "ipython",
    "version": 3
   },
   "file_extension": ".py",
   "mimetype": "text/x-python",
   "name": "python",
   "nbconvert_exporter": "python",
   "pygments_lexer": "ipython3",
   "version": "3.7.3"
  }
 },
 "nbformat": 4,
 "nbformat_minor": 2
}
